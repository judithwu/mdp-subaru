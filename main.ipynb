{
 "cells": [
  {
   "cell_type": "code",
   "execution_count": 150,
   "metadata": {},
   "outputs": [],
   "source": [
    "#Housekeeping\n",
    "from torchvision import transforms\n",
    "from torch.utils.data import Dataset\n",
    "from PIL import Image\n",
    "import numpy as np\n",
    "import matplotlib.pyplot as plt\n",
    "from tqdm import tqdm\n",
    "import os\n",
    "from glob import glob\n",
    "import torch as torch\n",
    "import cv2\n",
    "from torch import nn\n",
    "import torch.optim as optim\n",
    "import random"
   ]
  },
  {
   "cell_type": "code",
   "execution_count": 2,
   "metadata": {},
   "outputs": [],
   "source": [
    "import torch.nn.functional as F\n",
    "def pad_to_size(image_tensor, target_height, target_width, mode='constant', value=0):\n",
    "    _, height, width = image_tensor.shape\n",
    "    \n",
    "    # Calculate padding\n",
    "    pad_height = target_height - height\n",
    "    pad_width = target_width - width\n",
    "    \n",
    "    # Padding to be added on each side (left, right, top, bottom)\n",
    "    padding = (pad_width // 2, pad_width - pad_width // 2,\n",
    "               pad_height // 2, pad_height - pad_height // 2)\n",
    "    \n",
    "    # Pad the image\n",
    "    padded_image = F.pad(image_tensor, padding, mode=mode, value=value)\n",
    "    \n",
    "    return padded_image"
   ]
  },
  {
   "cell_type": "code",
   "execution_count": 3,
   "metadata": {},
   "outputs": [],
   "source": [
    "#0 is awake, 1 is drowsy?\n",
    "class DrowsyDataset(Dataset):\n",
    "    def __init__(self, drowsy_data, awake_data):\n",
    "        self.drowsy_data = drowsy_data\n",
    "        self.awake_data = awake_data\n",
    "        self.images = self.create_dataset()\n",
    "    \n",
    "    def __len__(self):\n",
    "        return len(self.images)\n",
    "    \n",
    "    def __getitem__(self, index):\n",
    "        img = self.images[index]\n",
    "        return img\n",
    "    \n",
    "    def create_dataset(self):\n",
    "        images = []\n",
    "        drowsy_length = len(os.listdir(self.drowsy_data))\n",
    "        awake_length = len(os.listdir(self.awake_data))\n",
    "            \n",
    "        with tqdm(total=drowsy_length+awake_length, unit=\"img\") as pbar:\n",
    "          for file in os.listdir(self.drowsy_data):\n",
    "            img = cv2.imread(os.path.join(self.drowsy_data, file))\n",
    "            #img = cv2.cvtColor(img, cv2.COLOR_BGR2GRAY)\n",
    "            img = transforms.ToTensor()(img)  \n",
    "            img = pad_to_size(img, 60, 80)\n",
    "            images.append((img, 1))       \n",
    "            pbar.update()\n",
    "\n",
    "          for file in os.listdir(self.awake_data):\n",
    "            img = cv2.imread(os.path.join(self.awake_data, file))\n",
    "            #img = cv2.cvtColor(img, cv2.COLOR_BGR2GRAY)\n",
    "            img = transforms.ToTensor()(img)  \n",
    "            img = pad_to_size(img, 60, 80)\n",
    "            images.append((img, 0))       \n",
    "            pbar.update()  \n",
    "       \n",
    "        return images          "
   ]
  },
  {
   "cell_type": "code",
   "execution_count": 4,
   "metadata": {},
   "outputs": [
    {
     "name": "stderr",
     "output_type": "stream",
     "text": [
      "100%|██████████| 700/700 [00:04<00:00, 148.37img/s]\n"
     ]
    }
   ],
   "source": [
    "awake = r\"D:\\data\\awake\"\n",
    "drowsy = r\"D:\\data\\drowsy\"\n",
    "data = DrowsyDataset(drowsy, awake)"
   ]
  },
  {
   "cell_type": "code",
   "execution_count": 5,
   "metadata": {},
   "outputs": [
    {
     "data": {
      "text/plain": [
       "700"
      ]
     },
     "execution_count": 5,
     "metadata": {},
     "output_type": "execute_result"
    }
   ],
   "source": [
    "len(data)"
   ]
  },
  {
   "cell_type": "code",
   "execution_count": 6,
   "metadata": {},
   "outputs": [
    {
     "name": "stdout",
     "output_type": "stream",
     "text": [
      "train_length:  560\n",
      "test_length:  140\n"
     ]
    }
   ],
   "source": [
    "#Train test splits\n",
    "length_of_dataset = len(data)\n",
    "num_test = int(length_of_dataset * 0.2)\n",
    "num_train = length_of_dataset - num_test\n",
    "print(\"train_length: \", str(num_train))      \n",
    "print(\"test_length: \", str(num_test))\n",
    "\n",
    "from torch.utils.data import random_split\n",
    "train_dataset, test_dataset = random_split(data, [num_train, num_test])"
   ]
  },
  {
   "cell_type": "code",
   "execution_count": 7,
   "metadata": {},
   "outputs": [
    {
     "name": "stdout",
     "output_type": "stream",
     "text": [
      "Length of train:  560\n",
      "Length of test:  140\n"
     ]
    },
    {
     "data": {
      "text/plain": [
       "(tensor([[[0., 0., 0.,  ..., 0., 0., 0.],\n",
       "          [0., 0., 0.,  ..., 0., 0., 0.],\n",
       "          [0., 0., 0.,  ..., 0., 0., 0.],\n",
       "          ...,\n",
       "          [0., 0., 0.,  ..., 0., 0., 0.],\n",
       "          [0., 0., 0.,  ..., 0., 0., 0.],\n",
       "          [0., 0., 0.,  ..., 0., 0., 0.]],\n",
       " \n",
       "         [[0., 0., 0.,  ..., 0., 0., 0.],\n",
       "          [0., 0., 0.,  ..., 0., 0., 0.],\n",
       "          [0., 0., 0.,  ..., 0., 0., 0.],\n",
       "          ...,\n",
       "          [0., 0., 0.,  ..., 0., 0., 0.],\n",
       "          [0., 0., 0.,  ..., 0., 0., 0.],\n",
       "          [0., 0., 0.,  ..., 0., 0., 0.]],\n",
       " \n",
       "         [[0., 0., 0.,  ..., 0., 0., 0.],\n",
       "          [0., 0., 0.,  ..., 0., 0., 0.],\n",
       "          [0., 0., 0.,  ..., 0., 0., 0.],\n",
       "          ...,\n",
       "          [0., 0., 0.,  ..., 0., 0., 0.],\n",
       "          [0., 0., 0.,  ..., 0., 0., 0.],\n",
       "          [0., 0., 0.,  ..., 0., 0., 0.]]]),\n",
       " 0)"
      ]
     },
     "execution_count": 7,
     "metadata": {},
     "output_type": "execute_result"
    }
   ],
   "source": [
    "#SANITY CHECK\n",
    "print(\"Length of train: \", len(train_dataset))\n",
    "print(\"Length of test: \", len(test_dataset))\n",
    "\n",
    "img, label = train_dataset[0]\n",
    "img, label"
   ]
  },
  {
   "cell_type": "code",
   "execution_count": 8,
   "metadata": {},
   "outputs": [],
   "source": [
    "from torch.utils.data import DataLoader\n",
    "#Turning datasets into dataloaders\n",
    "batch_size = 8\n",
    "train_dataloader = DataLoader(train_dataset,\n",
    "                              batch_size=batch_size,\n",
    "                              shuffle=True)\n",
    "val_dataloader = DataLoader(test_dataset,\n",
    "                             batch_size=batch_size,\n",
    "                             shuffle=True)"
   ]
  },
  {
   "cell_type": "code",
   "execution_count": 9,
   "metadata": {},
   "outputs": [
    {
     "name": "stdout",
     "output_type": "stream",
     "text": [
      "Length of train dataloader: 70 batches of 8\n",
      "Length of val dataloader: 18 batches of 8\n",
      "Image batch shape: torch.Size([8, 3, 60, 80])\n",
      "Label batch shape: torch.Size([8])\n"
     ]
    }
   ],
   "source": [
    "#Sanity check\n",
    "print(f\"Length of train dataloader: {len(train_dataloader)} batches of {batch_size}\")\n",
    "print(f\"Length of val dataloader: {len(val_dataloader)} batches of {batch_size}\")\n",
    "\n",
    "image_batch, label_batch = next(iter(train_dataloader))\n",
    "print(f\"Image batch shape: {image_batch.shape}\")\n",
    "print(f\"Label batch shape: {label_batch.shape}\")"
   ]
  },
  {
   "cell_type": "code",
   "execution_count": 20,
   "metadata": {},
   "outputs": [],
   "source": [
    "from model import ResNet, ResidualBlock"
   ]
  },
  {
   "cell_type": "code",
   "execution_count": 17,
   "metadata": {},
   "outputs": [],
   "source": [
    "%reload_ext autoreload\n",
    "%autoreload 2"
   ]
  },
  {
   "cell_type": "code",
   "execution_count": 18,
   "metadata": {},
   "outputs": [
    {
     "name": "stdout",
     "output_type": "stream",
     "text": [
      "class ResNet(nn.Module):\n",
      "    def __init__(self, block, layers, num_classes = 2):\n",
      "        super(ResNet, self).__init__()\n",
      "        self.inplanes = 64\n",
      "        self.conv1 = nn.Sequential(\n",
      "                        nn.Conv2d(3, 64, kernel_size = 3, stride = 2, padding = 0),\n",
      "                        nn.BatchNorm2d(64),\n",
      "                        nn.ReLU())\n",
      "        self.maxpool = nn.MaxPool2d(kernel_size = 3, stride = 2, padding = 1)\n",
      "        self.layer0 = self._make_layer(block, 64, layers[0], stride = 1)\n",
      "        self.layer1 = self._make_layer(block, 128, layers[1], stride = 2)\n",
      "        self.layer2 = self._make_layer(block, 256, layers[2], stride = 2)\n",
      "        self.layer3 = self._make_layer(block, 512, layers[3], stride = 2)\n",
      "        self.avgpool = nn.AvgPool2d(7, stride=1)\n",
      "        self.fc = nn.Linear(512, num_classes)\n",
      "        \n",
      "    def _make_layer(self, block, planes, blocks, stride=1):\n",
      "        downsample = None\n",
      "        if stride != 1 or self.inplanes != planes:\n",
      "            \n",
      "            downsample = nn.Sequential(\n",
      "                nn.Conv2d(self.inplanes, planes, kernel_size=1, stride=stride),\n",
      "                nn.BatchNorm2d(planes),\n",
      "            )\n",
      "        layers = []\n",
      "        layers.append(block(self.inplanes, planes, stride, downsample))\n",
      "        self.inplanes = planes\n",
      "        for i in range(1, blocks):\n",
      "            layers.append(block(self.inplanes, planes))\n",
      "\n",
      "        return nn.Sequential(*layers)\n",
      "    \n",
      "    \n",
      "    def forward(self, x):\n",
      "        x = self.conv1(x)\n",
      "        x = self.maxpool(x)\n",
      "        x = self.layer0(x)\n",
      "        x = self.layer1(x)\n",
      "        x = self.layer2(x)\n",
      "        x = self.layer3(x)\n",
      "\n",
      "        x = self.avgpool(x)\n",
      "        x = x.view(x.size(0), -1)\n",
      "        x = self.fc(x)\n",
      "\n",
      "        return x\n",
      "\n"
     ]
    }
   ],
   "source": [
    "#SANITY CHECK THE FUNCTION\n",
    "import inspect\n",
    "source_code = inspect.getsource(ResNet)\n",
    "print(source_code)"
   ]
  },
  {
   "cell_type": "code",
   "execution_count": 11,
   "metadata": {},
   "outputs": [],
   "source": [
    "import csv\n",
    "def write_to_csv(filename, metrics):\n",
    "    # Check if the file already exists to determine if headers are needed\n",
    "    try:\n",
    "        with open(filename, 'x', newline='') as csvfile:\n",
    "            # Create a CSV writer object\n",
    "            writer = csv.DictWriter(csvfile, fieldnames=metrics.keys())\n",
    "            # Write the header\n",
    "            writer.writeheader()\n",
    "            # Write the metrics as a row\n",
    "            writer.writerow(metrics)\n",
    "    except FileExistsError:\n",
    "        # File already exists, append to the file\n",
    "        with open(filename, 'a', newline='') as csvfile:\n",
    "            # Create a CSV writer object\n",
    "            writer = csv.DictWriter(csvfile, fieldnames=metrics.keys())\n",
    "            # Write the metrics as a row\n",
    "            writer.writerow(metrics)\n"
   ]
  },
  {
   "cell_type": "code",
   "execution_count": 65,
   "metadata": {},
   "outputs": [],
   "source": [
    "\n",
    "def evaluate(epoch, model, test_dataloader, loss_fn, device, batch_size, progress_bar):\n",
    "        \n",
    "        model.eval() #Set model to eval mode\n",
    "        epoch_loss = 0\n",
    "        epoch_accuracy = 0\n",
    "    \n",
    "        num_batches = len(test_dataloader)\n",
    "        with tqdm(total=num_test, unit=\"img\") as progress_bar:\n",
    "            for images, label in test_dataloader:\n",
    "                \n",
    "                images = images.to(device=device)\n",
    "                label = label.to(device=device)\n",
    "\n",
    "                with torch.autocast(device):\n",
    "                    pred = model(images) #Make predictions\n",
    "                    output = torch.sigmoid(pred)\n",
    "                    #convert probabilities to binary predictions\n",
    "                    predictions = (output > 0.5).float()\n",
    "                    pred = pred.squeeze()\n",
    "                    loss = loss_fn(pred.float(), label.float()) #Crossentropy loss  \n",
    "\n",
    "                    epoch_loss += loss.item() #Add loss to running loss total\n",
    "\n",
    "                    correct = (predictions == label).float()\n",
    "                    accuracy = correct.mean()\n",
    "                    epoch_accuracy += accuracy.item()\n",
    "                progress_bar.update(batch_size)\n",
    "                progress_bar.set_postfix(**{\"Loss\": loss.item(), \n",
    "                                            \"Accuracy\": accuracy.item()})\n",
    "        #After processing all batches, average the values to get the average metrics of the epoch\n",
    "        #print(vec)\n",
    "        epoch_loss = epoch_loss/num_batches\n",
    "        epoch_accuracy = epoch_accuracy/num_batches\n",
    "\n",
    "        #epoch_focal = epoch_focal/num_batches\n",
    "        #epoch_boundary = epoch_boundary/num_batches\n",
    "        #Write metrics to CSV file\n",
    "        metrics = {\"Epoch\": epoch, \n",
    "                    \"Loss\": epoch_loss, \n",
    "                    \"Accuracy\": epoch_accuracy}\n",
    "        filename = \"eval_metrics_last.csv\"\n",
    "        write_to_csv(filename, metrics)\n",
    "        model.train()\n",
    "        return epoch_loss\n",
    "                \n",
    "      \n",
    "   \n",
    "\n",
    "\n",
    "\n"
   ]
  },
  {
   "cell_type": "code",
   "execution_count": 66,
   "metadata": {},
   "outputs": [],
   "source": [
    "\n",
    "def train(model, epochs, train_dataloader, test_dataloader, scheduler, optimizer, loss_fn, scaler, device):\n",
    "    for epoch in range(1, epochs+1):\n",
    "        \n",
    "        model.train() #Set model to training mode\n",
    "        epoch_loss = 0\n",
    "        epoch_accuracy = 0\n",
    "    \n",
    "        num_batches = len(train_dataloader)\n",
    "        with tqdm(total=num_train, desc=f\"Epoch {epoch}/{epochs}\", unit=\"img\") as progress_bar:\n",
    "            for images, label in train_dataloader:\n",
    "                \n",
    "                images = images.to(device=device)\n",
    "                label = label.to(device=device)\n",
    "\n",
    "                with torch.autocast(device):\n",
    "                    pred = model(images) #Make predictions\n",
    "                    output = torch.sigmoid(pred)\n",
    "                    #convert probabilities to binary predictions\n",
    "                    predictions = (output > 0.5).float()\n",
    "                    pred = pred.squeeze()\n",
    "                    #print(pred)\n",
    "                    #print(label)\n",
    "                    loss = loss_fn(pred.float(), label.float()) #Crossentropy loss  \n",
    "\n",
    "                    epoch_loss += loss.item() #Add loss to running loss total\n",
    "\n",
    "                    correct = (predictions == label).float()\n",
    "                    accuracy = correct.mean()\n",
    "                    epoch_accuracy += accuracy.item()\n",
    "                \n",
    "                optimizer.zero_grad()\n",
    "                scaler.scale(loss).backward()\n",
    "                scaler.unscale_(optimizer) #Unscale so optimizer can correctly apply updates to model params\n",
    "                torch.nn.utils.clip_grad_norm_(model.parameters(), 1.0) #Clip gradients to prevent exploding gradient\n",
    "                scaler.step(optimizer)\n",
    "                scaler.update()\n",
    "\n",
    "                progress_bar.update(batch_size)\n",
    "                progress_bar.set_postfix(**{\"Loss\": loss.item(), \n",
    "                                            \"Accuracy\": accuracy.item()})\n",
    "        #After processing all batches, average the values to get the average metrics of the epoch\n",
    "        #print(vec)\n",
    "        epoch_loss = epoch_loss/num_batches\n",
    "        epoch_accuracy = epoch_accuracy/num_batches\n",
    "\n",
    "        #epoch_focal = epoch_focal/num_batches\n",
    "        #epoch_boundary = epoch_boundary/num_batches\n",
    "        #Write metrics to CSV file\n",
    "        metrics = {\"Epoch\": epoch, \n",
    "                    \"Loss\": epoch_loss, \n",
    "                    \"Accuracy\": epoch_accuracy}\n",
    "        filename = \"training_metrics_last.csv\"\n",
    "        write_to_csv(filename, metrics)\n",
    "\n",
    "        #Write class IOUs to CSV file\n",
    "        #iou_filename = \"training_class_ious_last.csv\"\n",
    "        #write_class_ious(iou_filename, epoch, epoch_class_iou)\n",
    "       \n",
    "        #Evaluation round\n",
    "        model.eval()\n",
    "        print(\"Evaluation round\")\n",
    "        with tqdm(total=num_test, desc=f\"Epoch {epoch}\", unit=\"img\") as progress_bar:\n",
    "            loss_score = evaluate(epoch, model, test_dataloader, loss_fn, device, batch_size, progress_bar)\n",
    "        scheduler.step(loss_score)\n",
    "                \n",
    "      \n",
    "   \n",
    "\n",
    "\n",
    "\n"
   ]
  },
  {
   "cell_type": "code",
   "execution_count": 67,
   "metadata": {},
   "outputs": [],
   "source": [
    "from ResNet import Bottleneck, ResNet, ResNet50"
   ]
  },
  {
   "cell_type": "code",
   "execution_count": 68,
   "metadata": {},
   "outputs": [],
   "source": [
    "device = \"cuda\" if torch.cuda.is_available() else \"cpu\"\n",
    "epochs = 100\n",
    "learning_rate = 0.001\n",
    "\n",
    "#model = ResNet(ResidualBlock, [3,4,6,3]).to(device)\n",
    "model = ResNet50(1).to(device)\n",
    "criterion = nn.BCEWithLogitsLoss()\n",
    "optimizer = optim.Adam(model.parameters(), lr = learning_rate)\n",
    "\n",
    "scheduler = optim.lr_scheduler.ReduceLROnPlateau(optimizer, \"min\", patience=3) #Reduce LR when IOU stops improving for 3 epochs\n",
    "scaler = torch.cuda.amp.GradScaler(enabled=True)"
   ]
  },
  {
   "cell_type": "code",
   "execution_count": 69,
   "metadata": {},
   "outputs": [
    {
     "data": {
      "text/plain": [
       "3244"
      ]
     },
     "execution_count": 69,
     "metadata": {},
     "output_type": "execute_result"
    }
   ],
   "source": [
    "torch.cuda.empty_cache()\n",
    "import gc\n",
    "gc.collect()"
   ]
  },
  {
   "cell_type": "code",
   "execution_count": null,
   "metadata": {},
   "outputs": [],
   "source": [
    "train(model, epochs, train_dataloader, val_dataloader, scheduler, optimizer, criterion, scaler, device)"
   ]
  },
  {
   "cell_type": "code",
   "execution_count": null,
   "metadata": {},
   "outputs": [],
   "source": [
    "#save model\n",
    "state_dict = model.state_dict()\n",
    "torch.save(state_dict, \"model_last.pth\")"
   ]
  },
  {
   "cell_type": "code",
   "execution_count": 154,
   "metadata": {},
   "outputs": [
    {
     "data": {
      "image/png": "[encoded data removed]",
      "text/plain": [
       "<Figure size 1500x500 with 4 Axes>"
      ]
     },
     "metadata": {},
     "output_type": "display_data"
    }
   ],
   "source": [
    "#take random 3 imgs for prediction example\n",
    "img, label = next(iter(val_dataloader))\n",
    "\n",
    "random_indices= random.sample(range(8), 4)\n",
    "imgs = []\n",
    "labels = []\n",
    "\n",
    "for idx in random_indices:\n",
    "  imgs.append(img[idx])\n",
    "  if label[idx].item() == 0:\n",
    "    labels.append(\"awake\")\n",
    "  else:\n",
    "    labels.append(\"drowsy\")\n",
    "\n",
    "fig, axes = plt.subplots(1, 4, figsize=(15, 5))  # 1 row, 3 columns\n",
    "\n",
    "# Iterate through each subplot and plot the image\n",
    "prediction = \"\"\n",
    "for i, ax in enumerate(axes):\n",
    "\n",
    "    #model prediction\n",
    "    img = imgs[i]\n",
    "    img = img.unsqueeze(dim=0)\n",
    "    img = img.to(device)\n",
    "\n",
    "    pred = model(img)\n",
    "\n",
    "    output = torch.sigmoid(pred)\n",
    "\n",
    "    if output >= 0.5:\n",
    "        prediction = \"drowsy\"\n",
    "    else:\n",
    "        prediction = \"awake\"\n",
    "    img_transposed = np.transpose(imgs[i], (1, 2, 0))\n",
    "    ax.imshow(img_transposed)  # Plot the image on the subplot\n",
    "    ax.set_title(f\"actual: {labels[i]} | prediction: {prediction}\") \n",
    "    ax.axis(\"off\")"
   ]
  },
  {
   "cell_type": "code",
   "execution_count": null,
   "metadata": {},
   "outputs": [],
   "source": []
  }
 ],
 "metadata": {
  "kernelspec": {
   "display_name": "torch",
   "language": "python",
   "name": "python3"
  },
  "language_info": {
   "codemirror_mode": {
    "name": "ipython",
    "version": 3
   },
   "file_extension": ".py",
   "mimetype": "text/x-python",
   "name": "python",
   "nbconvert_exporter": "python",
   "pygments_lexer": "ipython3",
   "version": "3.11.7"
  }
 },
 "nbformat": 4,
 "nbformat_minor": 2
}
