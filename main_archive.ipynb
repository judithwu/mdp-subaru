{
 "cells": [
  {
   "cell_type": "code",
   "execution_count": 1,
   "metadata": {},
   "outputs": [],
   "source": [
    "#Housekeeping\n",
    "from torchvision import transforms\n",
    "from torch.utils.data import Dataset\n",
    "from PIL import Image\n",
    "import numpy as np\n",
    "import matplotlib.pyplot as plt\n",
    "from tqdm import tqdm\n",
    "import os\n",
    "from glob import glob\n",
    "import torch as torch\n",
    "import cv2\n",
    "from torch import nn\n",
    "import torch.optim as optim\n",
    "import random"
   ]
  },
  {
   "cell_type": "code",
   "execution_count": 2,
   "metadata": {},
   "outputs": [],
   "source": [
    "from util import pad_img, write_to_csv, plot_metrics"
   ]
  },
  {
   "cell_type": "code",
   "execution_count": 3,
   "metadata": {},
   "outputs": [],
   "source": [
    "class DrowsyDataset(Dataset):\n",
    "    def __init__(self, drowsy_data, awake_data):\n",
    "        self.drowsy_data = drowsy_data\n",
    "        self.awake_data = awake_data\n",
    "        self.images = self.create_dataset()\n",
    "    \n",
    "    def __len__(self):\n",
    "        return len(self.images)\n",
    "    \n",
    "    def __getitem__(self, index):\n",
    "        img = self.images[index]\n",
    "        return img\n",
    "    \n",
    "    def create_dataset(self):\n",
    "        images = []\n",
    "        drowsy_length = len(os.listdir(self.drowsy_data))\n",
    "        awake_length = len(os.listdir(self.awake_data))\n",
    "            \n",
    "        with tqdm(total=drowsy_length+awake_length, unit=\"img\") as pbar:\n",
    "          for file in os.listdir(self.drowsy_data):\n",
    "            img = cv2.imread(os.path.join(self.drowsy_data, file))\n",
    "            #img = cv2.cvtColor(img, cv2.COLOR_BGR2GRAY)\n",
    "            img = transforms.ToTensor()(img)  \n",
    "            img = pad_img(img, 60, 80)\n",
    "            images.append((img, 1))       \n",
    "            pbar.update()\n",
    "\n",
    "          for file in os.listdir(self.awake_data):\n",
    "            img = cv2.imread(os.path.join(self.awake_data, file))\n",
    "            #img = cv2.cvtColor(img, cv2.COLOR_BGR2GRAY)\n",
    "            img = transforms.ToTensor()(img)  \n",
    "            img = pad_img(img, 60, 80)\n",
    "            images.append((img, 0))       \n",
    "            pbar.update()  \n",
    "       \n",
    "        return images          "
   ]
  },
  {
   "cell_type": "code",
   "execution_count": 4,
   "metadata": {},
   "outputs": [
    {
     "name": "stderr",
     "output_type": "stream",
     "text": [
      "  1%|▏         | 9/700 [00:00<00:07, 87.03img/s]"
     ]
    },
    {
     "name": "stderr",
     "output_type": "stream",
     "text": [
      "100%|██████████| 700/700 [00:02<00:00, 261.32img/s]\n"
     ]
    }
   ],
   "source": [
    "awake = r\"D:\\data\\awake\"\n",
    "drowsy = r\"D:\\data\\drowsy\"\n",
    "data = DrowsyDataset(drowsy, awake)"
   ]
  },
  {
   "cell_type": "code",
   "execution_count": 5,
   "metadata": {},
   "outputs": [
    {
     "name": "stdout",
     "output_type": "stream",
     "text": [
      "train_length:  560\n",
      "test_length:  140\n"
     ]
    }
   ],
   "source": [
    "#Train test splits\n",
    "length_of_dataset = len(data)\n",
    "num_test = int(length_of_dataset * 0.2)\n",
    "num_train = length_of_dataset - num_test\n",
    "print(\"train_length: \", str(num_train))      \n",
    "print(\"test_length: \", str(num_test))\n",
    "\n",
    "from torch.utils.data import random_split\n",
    "train_dataset, test_dataset = random_split(data, [num_train, num_test])"
   ]
  },
  {
   "cell_type": "code",
   "execution_count": 6,
   "metadata": {},
   "outputs": [
    {
     "name": "stdout",
     "output_type": "stream",
     "text": [
      "Length of train:  560\n",
      "Length of test:  140\n"
     ]
    }
   ],
   "source": [
    "#Sanity check\n",
    "print(\"Length of train: \", len(train_dataset))\n",
    "print(\"Length of test: \", len(test_dataset))\n",
    "\n",
    "img, label = train_dataset[0]"
   ]
  },
  {
   "cell_type": "code",
   "execution_count": 8,
   "metadata": {},
   "outputs": [],
   "source": [
    "from torch.utils.data import DataLoader\n",
    "#Turning datasets into dataloaders\n",
    "batch_size = 8\n",
    "train_dataloader = DataLoader(train_dataset,\n",
    "                              batch_size=batch_size,\n",
    "                              shuffle=True)\n",
    "val_dataloader = DataLoader(test_dataset,\n",
    "                             batch_size=batch_size,\n",
    "                             shuffle=True)"
   ]
  },
  {
   "cell_type": "code",
   "execution_count": 9,
   "metadata": {},
   "outputs": [
    {
     "name": "stdout",
     "output_type": "stream",
     "text": [
      "Length of train dataloader: 70 batches of 8\n",
      "Length of val dataloader: 18 batches of 8\n",
      "Image batch shape: torch.Size([8, 3, 60, 80])\n",
      "Label batch shape: torch.Size([8])\n"
     ]
    }
   ],
   "source": [
    "#Sanity check\n",
    "print(f\"Length of train dataloader: {len(train_dataloader)} batches of {batch_size}\")\n",
    "print(f\"Length of val dataloader: {len(val_dataloader)} batches of {batch_size}\")\n",
    "\n",
    "image_batch, label_batch = next(iter(train_dataloader))\n",
    "print(f\"Image batch shape: {image_batch.shape}\")\n",
    "print(f\"Label batch shape: {label_batch.shape}\")"
   ]
  },
  {
   "cell_type": "code",
   "execution_count": 9,
   "metadata": {},
   "outputs": [],
   "source": [
    "%reload_ext autoreload\n",
    "%autoreload 2"
   ]
  },
  {
   "cell_type": "code",
   "execution_count": 11,
   "metadata": {},
   "outputs": [],
   "source": [
    "def evaluate(epoch, model, test_dataloader, loss_fn, device, batch_size, progress_bar):\n",
    "        model.eval() #Set model to eval mode\n",
    "        epoch_loss = 0\n",
    "        epoch_accuracy = 0\n",
    "    \n",
    "        num_batches = len(test_dataloader)\n",
    "        with tqdm(total=num_test, unit=\"img\") as progress_bar:\n",
    "            for images, label in test_dataloader:\n",
    "                \n",
    "                images = images.to(device=device)\n",
    "                label = label.to(device=device)\n",
    "\n",
    "                with torch.autocast(device):\n",
    "                    pred = model(images) #Make predictions\n",
    "                    output = torch.sigmoid(pred)\n",
    "                    #convert probabilities to binary predictions\n",
    "                    predictions = (output > 0.5).float()\n",
    "                    pred = pred.squeeze()\n",
    "                    loss = loss_fn(pred.float(), label.float()) #Crossentropy loss  \n",
    "\n",
    "                    epoch_loss += loss.item() #Add loss to running loss total\n",
    "\n",
    "                    correct = (predictions == label).float()\n",
    "                    accuracy = correct.mean()\n",
    "                    epoch_accuracy += accuracy.item()\n",
    "                progress_bar.update(batch_size)\n",
    "                progress_bar.set_postfix(**{\"Loss\": loss.item(), \n",
    "                                            \"Accuracy\": accuracy.item()})\n",
    "        #After processing all batches, average the values to get the average metrics of the epoch\n",
    "        #print(vec)\n",
    "        epoch_loss = epoch_loss/num_batches\n",
    "        epoch_accuracy = epoch_accuracy/num_batches\n",
    "\n",
    "        #epoch_focal = epoch_focal/num_batches\n",
    "        #epoch_boundary = epoch_boundary/num_batches\n",
    "        #Write metrics to CSV file\n",
    "        metrics = {\"Epoch\": epoch, \n",
    "                    \"Loss\": epoch_loss, \n",
    "                    \"Accuracy\": epoch_accuracy}\n",
    "        filename = \"eval_metrics_test.csv\"\n",
    "        write_to_csv(filename, metrics)\n",
    "        model.train()\n",
    "        return epoch_loss\n",
    "                \n",
    "      \n",
    "   \n",
    "\n",
    "\n",
    "\n"
   ]
  },
  {
   "cell_type": "code",
   "execution_count": 12,
   "metadata": {},
   "outputs": [],
   "source": [
    "def train(model, epochs, train_dataloader, test_dataloader, scheduler, optimizer, loss_fn, scaler, device):\n",
    "    for epoch in range(1, epochs+1):\n",
    "        \n",
    "        model.train() #Set model to training mode\n",
    "        epoch_loss = 0\n",
    "        epoch_accuracy = 0\n",
    "    \n",
    "        num_batches = len(train_dataloader)\n",
    "        with tqdm(total=num_train, desc=f\"Epoch {epoch}/{epochs}\", unit=\"img\") as progress_bar:\n",
    "            for images, label in train_dataloader:\n",
    "                \n",
    "                images = images.to(device=device)\n",
    "                label = label.to(device=device)\n",
    "\n",
    "                with torch.autocast(device):\n",
    "                    pred = model(images) #Make predictions\n",
    "                    output = torch.sigmoid(pred)\n",
    "                    #convert probabilities to binary predictions\n",
    "                    predictions = (output > 0.5).float()\n",
    "                    pred = pred.squeeze()\n",
    "                    #print(pred)\n",
    "                    #print(label)\n",
    "                    loss = loss_fn(pred.float(), label.float()) #Crossentropy loss  \n",
    "\n",
    "                    epoch_loss += loss.item() #Add loss to running loss total\n",
    "\n",
    "                    correct = (predictions == label).float()\n",
    "                    accuracy = correct.mean()\n",
    "                    epoch_accuracy += accuracy.item()\n",
    "                \n",
    "                optimizer.zero_grad()\n",
    "                scaler.scale(loss).backward()\n",
    "                scaler.unscale_(optimizer) #Unscale so optimizer can correctly apply updates to model params\n",
    "                torch.nn.utils.clip_grad_norm_(model.parameters(), 1.0) #Clip gradients to prevent exploding gradient\n",
    "                scaler.step(optimizer)\n",
    "                scaler.update()\n",
    "\n",
    "                progress_bar.update(batch_size)\n",
    "                progress_bar.set_postfix(**{\"Loss\": loss.item(), \n",
    "                                            \"Accuracy\": accuracy.item()})\n",
    "        #After processing all batches, average the values to get the average metrics of the epoch\n",
    "        #print(vec)\n",
    "        epoch_loss = epoch_loss/num_batches\n",
    "        epoch_accuracy = epoch_accuracy/num_batches\n",
    "\n",
    "        #epoch_focal = epoch_focal/num_batches\n",
    "        #epoch_boundary = epoch_boundary/num_batches\n",
    "        #Write metrics to CSV file\n",
    "        metrics = {\"Epoch\": epoch, \n",
    "                    \"Loss\": epoch_loss, \n",
    "                    \"Accuracy\": epoch_accuracy}\n",
    "        filename = \"training_metrics_test.csv\"\n",
    "        write_to_csv(filename, metrics)\n",
    "\n",
    "        #Write class IOUs to CSV file\n",
    "        #iou_filename = \"training_class_ious_last.csv\"\n",
    "        #write_class_ious(iou_filename, epoch, epoch_class_iou)\n",
    "       \n",
    "        #Evaluation round\n",
    "        model.eval()\n",
    "        print(\"Evaluation round\")\n",
    "        with tqdm(total=num_test, desc=f\"Epoch {epoch}\", unit=\"img\") as progress_bar:\n",
    "            loss_score = evaluate(epoch, model, test_dataloader, loss_fn, device, batch_size, progress_bar)\n",
    "        scheduler.step(loss_score)\n",
    "                \n",
    "      \n",
    "   \n",
    "\n",
    "\n",
    "\n"
   ]
  },
  {
   "cell_type": "code",
   "execution_count": 13,
   "metadata": {},
   "outputs": [],
   "source": [
    "from model import ResNet50"
   ]
  },
  {
   "cell_type": "code",
   "execution_count": 14,
   "metadata": {},
   "outputs": [],
   "source": [
    "device = \"cuda\" if torch.cuda.is_available() else \"cpu\"\n",
    "epochs = 100\n",
    "learning_rate = 0.001\n",
    "\n",
    "model = ResNet50(1).to(device)\n",
    "criterion = nn.BCEWithLogitsLoss()\n",
    "optimizer = optim.Adam(model.parameters(), lr = learning_rate)\n",
    "\n",
    "scheduler = optim.lr_scheduler.ReduceLROnPlateau(optimizer, \"min\", patience=3) #Reduce LR when IOU stops improving for 3 epochs\n",
    "scaler = torch.cuda.amp.GradScaler(enabled=True)"
   ]
  },
  {
   "cell_type": "code",
   "execution_count": 15,
   "metadata": {},
   "outputs": [
    {
     "data": {
      "text/plain": [
       "235"
      ]
     },
     "execution_count": 15,
     "metadata": {},
     "output_type": "execute_result"
    }
   ],
   "source": [
    "torch.cuda.empty_cache()\n",
    "import gc\n",
    "gc.collect()"
   ]
  },
  {
   "cell_type": "code",
   "execution_count": 16,
   "metadata": {},
   "outputs": [
    {
     "name": "stderr",
     "output_type": "stream",
     "text": [
      "Epoch 1/100: 100%|██████████| 560/560 [01:04<00:00,  8.63img/s, Accuracy=0.594, Loss=0.812]\n"
     ]
    },
    {
     "name": "stdout",
     "output_type": "stream",
     "text": [
      "Evaluation round\n"
     ]
    },
    {
     "name": "stderr",
     "output_type": "stream",
     "text": [
      "144img [00:03, 38.06img/s, Accuracy=1, Loss=0.484]\n",
      "Epoch 1:   0%|          | 0/140 [00:03<?, ?img/s]\n",
      "Epoch 2/100: 100%|██████████| 560/560 [00:21<00:00, 26.61img/s, Accuracy=0.5, Loss=0.532]  \n"
     ]
    },
    {
     "name": "stdout",
     "output_type": "stream",
     "text": [
      "Evaluation round\n"
     ]
    },
    {
     "name": "stderr",
     "output_type": "stream",
     "text": [
      "144img [00:01, 81.82img/s, Accuracy=0.5, Loss=2.73]\n",
      "Epoch 2:   0%|          | 0/140 [00:01<?, ?img/s]\n",
      "Epoch 3/100: 100%|██████████| 560/560 [00:15<00:00, 35.85img/s, Accuracy=0.5, Loss=0.171]   \n"
     ]
    },
    {
     "name": "stdout",
     "output_type": "stream",
     "text": [
      "Evaluation round\n"
     ]
    },
    {
     "name": "stderr",
     "output_type": "stream",
     "text": [
      "144img [00:02, 50.83img/s, Accuracy=0.75, Loss=0.438]\n",
      "Epoch 3:   0%|          | 0/140 [00:02<?, ?img/s]\n",
      "Epoch 4/100: 100%|██████████| 560/560 [00:23<00:00, 23.80img/s, Accuracy=0.594, Loss=0.525] \n"
     ]
    },
    {
     "name": "stdout",
     "output_type": "stream",
     "text": [
      "Evaluation round\n"
     ]
    },
    {
     "name": "stderr",
     "output_type": "stream",
     "text": [
      "144img [00:03, 39.71img/s, Accuracy=0, Loss=3.81]\n",
      "Epoch 4:   0%|          | 0/140 [00:03<?, ?img/s]\n",
      "Epoch 5/100: 100%|██████████| 560/560 [00:19<00:00, 29.18img/s, Accuracy=0.531, Loss=0.118] \n"
     ]
    },
    {
     "name": "stdout",
     "output_type": "stream",
     "text": [
      "Evaluation round\n"
     ]
    },
    {
     "name": "stderr",
     "output_type": "stream",
     "text": [
      "144img [00:03, 47.46img/s, Accuracy=0.25, Loss=1.69]\n",
      "Epoch 5:   0%|          | 0/140 [00:03<?, ?img/s]\n",
      "Epoch 6/100: 100%|██████████| 560/560 [00:26<00:00, 21.14img/s, Accuracy=0.625, Loss=0.0189]\n"
     ]
    },
    {
     "name": "stdout",
     "output_type": "stream",
     "text": [
      "Evaluation round\n"
     ]
    },
    {
     "name": "stderr",
     "output_type": "stream",
     "text": [
      "144img [00:03, 45.99img/s, Accuracy=0.5, Loss=17.7]\n",
      "Epoch 6:   0%|          | 0/140 [00:03<?, ?img/s]\n",
      "Epoch 7/100: 100%|██████████| 560/560 [00:24<00:00, 23.29img/s, Accuracy=0.625, Loss=0.00369]\n"
     ]
    },
    {
     "name": "stdout",
     "output_type": "stream",
     "text": [
      "Evaluation round\n"
     ]
    },
    {
     "name": "stderr",
     "output_type": "stream",
     "text": [
      "144img [00:03, 44.27img/s, Accuracy=0.5, Loss=0.657]\n",
      "Epoch 7:   0%|          | 0/140 [00:03<?, ?img/s]\n",
      "Epoch 8/100: 100%|██████████| 560/560 [00:25<00:00, 21.98img/s, Accuracy=0.531, Loss=0.00848]\n"
     ]
    },
    {
     "name": "stdout",
     "output_type": "stream",
     "text": [
      "Evaluation round\n"
     ]
    },
    {
     "name": "stderr",
     "output_type": "stream",
     "text": [
      "144img [00:02, 62.36img/s, Accuracy=0.5, Loss=0.0372]\n",
      "Epoch 8:   0%|          | 0/140 [00:02<?, ?img/s]\n",
      "Epoch 9/100: 100%|██████████| 560/560 [00:24<00:00, 22.99img/s, Accuracy=0.5, Loss=0.000481]  \n"
     ]
    },
    {
     "name": "stdout",
     "output_type": "stream",
     "text": [
      "Evaluation round\n"
     ]
    },
    {
     "name": "stderr",
     "output_type": "stream",
     "text": [
      "144img [00:03, 44.80img/s, Accuracy=0.5, Loss=3.97]\n",
      "Epoch 9:   0%|          | 0/140 [00:03<?, ?img/s]\n",
      "Epoch 10/100: 100%|██████████| 560/560 [00:23<00:00, 23.83img/s, Accuracy=0.5, Loss=0.0373]    \n"
     ]
    },
    {
     "name": "stdout",
     "output_type": "stream",
     "text": [
      "Evaluation round\n"
     ]
    },
    {
     "name": "stderr",
     "output_type": "stream",
     "text": [
      "144img [00:02, 56.30img/s, Accuracy=0.5, Loss=3.32]\n",
      "Epoch 10:   0%|          | 0/140 [00:02<?, ?img/s]\n",
      "Epoch 11/100: 100%|██████████| 560/560 [00:23<00:00, 23.73img/s, Accuracy=0.5, Loss=0.00102]   \n"
     ]
    },
    {
     "name": "stdout",
     "output_type": "stream",
     "text": [
      "Evaluation round\n"
     ]
    },
    {
     "name": "stderr",
     "output_type": "stream",
     "text": [
      "144img [00:05, 24.39img/s, Accuracy=1, Loss=0.000357]\n",
      "Epoch 11:   0%|          | 0/140 [00:05<?, ?img/s]\n",
      "Epoch 12/100: 100%|██████████| 560/560 [00:26<00:00, 21.13img/s, Accuracy=0.5, Loss=0.842]     \n"
     ]
    },
    {
     "name": "stdout",
     "output_type": "stream",
     "text": [
      "Evaluation round\n"
     ]
    },
    {
     "name": "stderr",
     "output_type": "stream",
     "text": [
      "144img [00:04, 30.53img/s, Accuracy=0.5, Loss=19.1]\n",
      "Epoch 12:   0%|          | 0/140 [00:04<?, ?img/s]\n",
      "Epoch 13/100: 100%|██████████| 560/560 [00:30<00:00, 18.29img/s, Accuracy=0.5, Loss=0.597]     \n"
     ]
    },
    {
     "name": "stdout",
     "output_type": "stream",
     "text": [
      "Evaluation round\n"
     ]
    },
    {
     "name": "stderr",
     "output_type": "stream",
     "text": [
      "144img [00:03, 45.67img/s, Accuracy=0.5, Loss=3.7]\n",
      "Epoch 13:   0%|          | 0/140 [00:03<?, ?img/s]\n",
      "Epoch 14/100: 100%|██████████| 560/560 [00:33<00:00, 16.75img/s, Accuracy=0.562, Loss=0.429]  \n"
     ]
    },
    {
     "name": "stdout",
     "output_type": "stream",
     "text": [
      "Evaluation round\n"
     ]
    },
    {
     "name": "stderr",
     "output_type": "stream",
     "text": [
      "144img [00:04, 31.09img/s, Accuracy=0.5, Loss=2.27]\n",
      "Epoch 14:   0%|          | 0/140 [00:04<?, ?img/s]\n",
      "Epoch 15/100: 100%|██████████| 560/560 [00:36<00:00, 15.27img/s, Accuracy=0.531, Loss=0.0218]  \n"
     ]
    },
    {
     "name": "stdout",
     "output_type": "stream",
     "text": [
      "Evaluation round\n"
     ]
    },
    {
     "name": "stderr",
     "output_type": "stream",
     "text": [
      "144img [00:04, 30.46img/s, Accuracy=0.5, Loss=2.13]\n",
      "Epoch 15:   0%|          | 0/140 [00:04<?, ?img/s]\n",
      "Epoch 16/100: 100%|██████████| 560/560 [00:37<00:00, 15.10img/s, Accuracy=0.625, Loss=0.00262] \n"
     ]
    },
    {
     "name": "stdout",
     "output_type": "stream",
     "text": [
      "Evaluation round\n"
     ]
    },
    {
     "name": "stderr",
     "output_type": "stream",
     "text": [
      "144img [00:04, 31.72img/s, Accuracy=0.5, Loss=0.00332]\n",
      "Epoch 16:   0%|          | 0/140 [00:04<?, ?img/s]\n",
      "Epoch 17/100: 100%|██████████| 560/560 [00:39<00:00, 14.28img/s, Accuracy=0.5, Loss=0.00219]   \n"
     ]
    },
    {
     "name": "stdout",
     "output_type": "stream",
     "text": [
      "Evaluation round\n"
     ]
    },
    {
     "name": "stderr",
     "output_type": "stream",
     "text": [
      "144img [00:06, 22.76img/s, Accuracy=0.625, Loss=0.000209]\n",
      "Epoch 17:   0%|          | 0/140 [00:06<?, ?img/s]\n",
      "Epoch 18/100: 100%|██████████| 560/560 [00:48<00:00, 11.58img/s, Accuracy=0.625, Loss=0.00545] \n"
     ]
    },
    {
     "name": "stdout",
     "output_type": "stream",
     "text": [
      "Evaluation round\n"
     ]
    },
    {
     "name": "stderr",
     "output_type": "stream",
     "text": [
      "144img [00:06, 22.51img/s, Accuracy=0.5, Loss=5.42e-5]\n",
      "Epoch 18:   0%|          | 0/140 [00:06<?, ?img/s]\n",
      "Epoch 19/100: 100%|██████████| 560/560 [00:43<00:00, 12.90img/s, Accuracy=0.5, Loss=0.000266]  \n"
     ]
    },
    {
     "name": "stdout",
     "output_type": "stream",
     "text": [
      "Evaluation round\n"
     ]
    },
    {
     "name": "stderr",
     "output_type": "stream",
     "text": [
      "144img [00:05, 28.02img/s, Accuracy=0.625, Loss=0.000193]\n",
      "Epoch 19:   0%|          | 0/140 [00:05<?, ?img/s]\n",
      "Epoch 20/100: 100%|██████████| 560/560 [00:39<00:00, 14.23img/s, Accuracy=0.5, Loss=0.000242]  \n"
     ]
    },
    {
     "name": "stdout",
     "output_type": "stream",
     "text": [
      "Evaluation round\n"
     ]
    },
    {
     "name": "stderr",
     "output_type": "stream",
     "text": [
      "144img [00:04, 34.85img/s, Accuracy=0.625, Loss=0.00037]\n",
      "Epoch 20:   0%|          | 0/140 [00:04<?, ?img/s]\n",
      "Epoch 21/100: 100%|██████████| 560/560 [00:35<00:00, 15.82img/s, Accuracy=0.5, Loss=0.000429]  \n"
     ]
    },
    {
     "name": "stdout",
     "output_type": "stream",
     "text": [
      "Evaluation round\n"
     ]
    },
    {
     "name": "stderr",
     "output_type": "stream",
     "text": [
      "144img [00:04, 30.93img/s, Accuracy=0.625, Loss=0.00384]\n",
      "Epoch 21:   0%|          | 0/140 [00:04<?, ?img/s]\n",
      "Epoch 22/100: 100%|██████████| 560/560 [00:37<00:00, 15.10img/s, Accuracy=0.781, Loss=0.00444] \n"
     ]
    },
    {
     "name": "stdout",
     "output_type": "stream",
     "text": [
      "Evaluation round\n"
     ]
    },
    {
     "name": "stderr",
     "output_type": "stream",
     "text": [
      "144img [00:04, 31.39img/s, Accuracy=0.625, Loss=0.000381]\n",
      "Epoch 22:   0%|          | 0/140 [00:04<?, ?img/s]\n",
      "Epoch 23/100: 100%|██████████| 560/560 [00:53<00:00, 10.55img/s, Accuracy=0.531, Loss=0.00113] \n"
     ]
    },
    {
     "name": "stdout",
     "output_type": "stream",
     "text": [
      "Evaluation round\n"
     ]
    },
    {
     "name": "stderr",
     "output_type": "stream",
     "text": [
      "144img [00:05, 27.70img/s, Accuracy=0.625, Loss=0.000361]\n",
      "Epoch 23:   0%|          | 0/140 [00:05<?, ?img/s]\n",
      "Epoch 24/100: 100%|██████████| 560/560 [00:26<00:00, 21.45img/s, Accuracy=0.531, Loss=0.000234]\n"
     ]
    },
    {
     "name": "stdout",
     "output_type": "stream",
     "text": [
      "Evaluation round\n"
     ]
    },
    {
     "name": "stderr",
     "output_type": "stream",
     "text": [
      "144img [00:03, 39.22img/s, Accuracy=0.5, Loss=0.000292]\n",
      "Epoch 24:   0%|          | 0/140 [00:03<?, ?img/s]\n",
      "Epoch 25/100: 100%|██████████| 560/560 [00:16<00:00, 34.10img/s, Accuracy=0.531, Loss=0.00272] \n"
     ]
    },
    {
     "name": "stdout",
     "output_type": "stream",
     "text": [
      "Evaluation round\n"
     ]
    },
    {
     "name": "stderr",
     "output_type": "stream",
     "text": [
      "144img [00:02, 70.39img/s, Accuracy=0.5, Loss=1.95]\n",
      "Epoch 25:   0%|          | 0/140 [00:02<?, ?img/s]\n",
      "Epoch 26/100: 100%|██████████| 560/560 [00:14<00:00, 38.46img/s, Accuracy=0.531, Loss=0.000284]\n"
     ]
    },
    {
     "name": "stdout",
     "output_type": "stream",
     "text": [
      "Evaluation round\n"
     ]
    },
    {
     "name": "stderr",
     "output_type": "stream",
     "text": [
      "144img [00:01, 85.53img/s, Accuracy=0.5, Loss=3.46e-5]\n",
      "Epoch 26:   0%|          | 0/140 [00:01<?, ?img/s]\n",
      "Epoch 27/100: 100%|██████████| 560/560 [00:17<00:00, 31.48img/s, Accuracy=0.625, Loss=0.00121] \n"
     ]
    },
    {
     "name": "stdout",
     "output_type": "stream",
     "text": [
      "Evaluation round\n"
     ]
    },
    {
     "name": "stderr",
     "output_type": "stream",
     "text": [
      "144img [00:02, 70.91img/s, Accuracy=0.5, Loss=0.000292]\n",
      "Epoch 27:   0%|          | 0/140 [00:02<?, ?img/s]\n",
      "Epoch 28/100: 100%|██████████| 560/560 [00:14<00:00, 37.50img/s, Accuracy=0.5, Loss=4.95e-5]   \n"
     ]
    },
    {
     "name": "stdout",
     "output_type": "stream",
     "text": [
      "Evaluation round\n"
     ]
    },
    {
     "name": "stderr",
     "output_type": "stream",
     "text": [
      "144img [00:01, 113.77img/s, Accuracy=0.625, Loss=0.000131]\n",
      "Epoch 28:   0%|          | 0/140 [00:01<?, ?img/s]\n",
      "Epoch 29/100: 100%|██████████| 560/560 [00:08<00:00, 65.91img/s, Accuracy=0.531, Loss=0.000178]\n"
     ]
    },
    {
     "name": "stdout",
     "output_type": "stream",
     "text": [
      "Evaluation round\n"
     ]
    },
    {
     "name": "stderr",
     "output_type": "stream",
     "text": [
      "144img [00:01, 108.67img/s, Accuracy=0.625, Loss=9.71e-5]\n",
      "Epoch 29:   0%|          | 0/140 [00:01<?, ?img/s]\n",
      "Epoch 30/100: 100%|██████████| 560/560 [00:12<00:00, 43.84img/s, Accuracy=0.625, Loss=0.00256] \n"
     ]
    },
    {
     "name": "stdout",
     "output_type": "stream",
     "text": [
      "Evaluation round\n"
     ]
    },
    {
     "name": "stderr",
     "output_type": "stream",
     "text": [
      "144img [00:01, 84.19img/s, Accuracy=0.625, Loss=9.25e-5]\n",
      "Epoch 30:   0%|          | 0/140 [00:01<?, ?img/s]\n",
      "Epoch 31/100: 100%|██████████| 560/560 [00:16<00:00, 32.98img/s, Accuracy=0.625, Loss=0.00311] \n"
     ]
    },
    {
     "name": "stdout",
     "output_type": "stream",
     "text": [
      "Evaluation round\n"
     ]
    },
    {
     "name": "stderr",
     "output_type": "stream",
     "text": [
      " 74%|███████▍  | 104/140 [00:01<00:00, 55.74img/s, Accuracy=0.625, Loss=4.76e-5]\n",
      "Epoch 31:   0%|          | 0/140 [00:01<?, ?img/s]\n"
     ]
    },
    {
     "ename": "KeyboardInterrupt",
     "evalue": "",
     "output_type": "error",
     "traceback": [
      "\u001b[1;31m---------------------------------------------------------------------------\u001b[0m",
      "\u001b[1;31mKeyboardInterrupt\u001b[0m                         Traceback (most recent call last)",
      "Cell \u001b[1;32mIn[16], line 1\u001b[0m\n\u001b[1;32m----> 1\u001b[0m train(model, epochs, train_dataloader, val_dataloader, scheduler, optimizer, criterion, scaler, device)\n",
      "Cell \u001b[1;32mIn[12], line 63\u001b[0m, in \u001b[0;36mtrain\u001b[1;34m(model, epochs, train_dataloader, test_dataloader, scheduler, optimizer, loss_fn, scaler, device)\u001b[0m\n\u001b[0;32m     61\u001b[0m \u001b[38;5;28mprint\u001b[39m(\u001b[38;5;124m\"\u001b[39m\u001b[38;5;124mEvaluation round\u001b[39m\u001b[38;5;124m\"\u001b[39m)\n\u001b[0;32m     62\u001b[0m \u001b[38;5;28;01mwith\u001b[39;00m tqdm(total\u001b[38;5;241m=\u001b[39mnum_test, desc\u001b[38;5;241m=\u001b[39m\u001b[38;5;124mf\u001b[39m\u001b[38;5;124m\"\u001b[39m\u001b[38;5;124mEpoch \u001b[39m\u001b[38;5;132;01m{\u001b[39;00mepoch\u001b[38;5;132;01m}\u001b[39;00m\u001b[38;5;124m\"\u001b[39m, unit\u001b[38;5;241m=\u001b[39m\u001b[38;5;124m\"\u001b[39m\u001b[38;5;124mimg\u001b[39m\u001b[38;5;124m\"\u001b[39m) \u001b[38;5;28;01mas\u001b[39;00m progress_bar:\n\u001b[1;32m---> 63\u001b[0m     loss_score \u001b[38;5;241m=\u001b[39m evaluate(epoch, model, test_dataloader, loss_fn, device, batch_size, progress_bar)\n\u001b[0;32m     64\u001b[0m scheduler\u001b[38;5;241m.\u001b[39mstep(loss_score)\n",
      "Cell \u001b[1;32mIn[11], line 14\u001b[0m, in \u001b[0;36mevaluate\u001b[1;34m(epoch, model, test_dataloader, loss_fn, device, batch_size, progress_bar)\u001b[0m\n\u001b[0;32m     11\u001b[0m label \u001b[38;5;241m=\u001b[39m label\u001b[38;5;241m.\u001b[39mto(device\u001b[38;5;241m=\u001b[39mdevice)\n\u001b[0;32m     13\u001b[0m \u001b[38;5;28;01mwith\u001b[39;00m torch\u001b[38;5;241m.\u001b[39mautocast(device):\n\u001b[1;32m---> 14\u001b[0m     pred \u001b[38;5;241m=\u001b[39m model(images) \u001b[38;5;66;03m#Make predictions\u001b[39;00m\n\u001b[0;32m     15\u001b[0m     output \u001b[38;5;241m=\u001b[39m torch\u001b[38;5;241m.\u001b[39msigmoid(pred)\n\u001b[0;32m     16\u001b[0m     \u001b[38;5;66;03m#convert probabilities to binary predictions\u001b[39;00m\n",
      "File \u001b[1;32mc:\\Users\\judit\\anaconda3\\envs\\torch\\Lib\\site-packages\\torch\\nn\\modules\\module.py:1518\u001b[0m, in \u001b[0;36mModule._wrapped_call_impl\u001b[1;34m(self, *args, **kwargs)\u001b[0m\n\u001b[0;32m   1516\u001b[0m     \u001b[38;5;28;01mreturn\u001b[39;00m \u001b[38;5;28mself\u001b[39m\u001b[38;5;241m.\u001b[39m_compiled_call_impl(\u001b[38;5;241m*\u001b[39margs, \u001b[38;5;241m*\u001b[39m\u001b[38;5;241m*\u001b[39mkwargs)  \u001b[38;5;66;03m# type: ignore[misc]\u001b[39;00m\n\u001b[0;32m   1517\u001b[0m \u001b[38;5;28;01melse\u001b[39;00m:\n\u001b[1;32m-> 1518\u001b[0m     \u001b[38;5;28;01mreturn\u001b[39;00m \u001b[38;5;28mself\u001b[39m\u001b[38;5;241m.\u001b[39m_call_impl(\u001b[38;5;241m*\u001b[39margs, \u001b[38;5;241m*\u001b[39m\u001b[38;5;241m*\u001b[39mkwargs)\n",
      "File \u001b[1;32mc:\\Users\\judit\\anaconda3\\envs\\torch\\Lib\\site-packages\\torch\\nn\\modules\\module.py:1527\u001b[0m, in \u001b[0;36mModule._call_impl\u001b[1;34m(self, *args, **kwargs)\u001b[0m\n\u001b[0;32m   1522\u001b[0m \u001b[38;5;66;03m# If we don't have any hooks, we want to skip the rest of the logic in\u001b[39;00m\n\u001b[0;32m   1523\u001b[0m \u001b[38;5;66;03m# this function, and just call forward.\u001b[39;00m\n\u001b[0;32m   1524\u001b[0m \u001b[38;5;28;01mif\u001b[39;00m \u001b[38;5;129;01mnot\u001b[39;00m (\u001b[38;5;28mself\u001b[39m\u001b[38;5;241m.\u001b[39m_backward_hooks \u001b[38;5;129;01mor\u001b[39;00m \u001b[38;5;28mself\u001b[39m\u001b[38;5;241m.\u001b[39m_backward_pre_hooks \u001b[38;5;129;01mor\u001b[39;00m \u001b[38;5;28mself\u001b[39m\u001b[38;5;241m.\u001b[39m_forward_hooks \u001b[38;5;129;01mor\u001b[39;00m \u001b[38;5;28mself\u001b[39m\u001b[38;5;241m.\u001b[39m_forward_pre_hooks\n\u001b[0;32m   1525\u001b[0m         \u001b[38;5;129;01mor\u001b[39;00m _global_backward_pre_hooks \u001b[38;5;129;01mor\u001b[39;00m _global_backward_hooks\n\u001b[0;32m   1526\u001b[0m         \u001b[38;5;129;01mor\u001b[39;00m _global_forward_hooks \u001b[38;5;129;01mor\u001b[39;00m _global_forward_pre_hooks):\n\u001b[1;32m-> 1527\u001b[0m     \u001b[38;5;28;01mreturn\u001b[39;00m forward_call(\u001b[38;5;241m*\u001b[39margs, \u001b[38;5;241m*\u001b[39m\u001b[38;5;241m*\u001b[39mkwargs)\n\u001b[0;32m   1529\u001b[0m \u001b[38;5;28;01mtry\u001b[39;00m:\n\u001b[0;32m   1530\u001b[0m     result \u001b[38;5;241m=\u001b[39m \u001b[38;5;28;01mNone\u001b[39;00m\n",
      "File \u001b[1;32md:\\mdp\\model.py:99\u001b[0m, in \u001b[0;36mResNet.forward\u001b[1;34m(self, x)\u001b[0m\n\u001b[0;32m     97\u001b[0m x \u001b[38;5;241m=\u001b[39m \u001b[38;5;28mself\u001b[39m\u001b[38;5;241m.\u001b[39mlayer2(x)\n\u001b[0;32m     98\u001b[0m x \u001b[38;5;241m=\u001b[39m \u001b[38;5;28mself\u001b[39m\u001b[38;5;241m.\u001b[39mlayer3(x)\n\u001b[1;32m---> 99\u001b[0m x \u001b[38;5;241m=\u001b[39m \u001b[38;5;28mself\u001b[39m\u001b[38;5;241m.\u001b[39mlayer4(x)\n\u001b[0;32m    101\u001b[0m x \u001b[38;5;241m=\u001b[39m \u001b[38;5;28mself\u001b[39m\u001b[38;5;241m.\u001b[39mavgpool(x)\n\u001b[0;32m    102\u001b[0m x \u001b[38;5;241m=\u001b[39m x\u001b[38;5;241m.\u001b[39mreshape(x\u001b[38;5;241m.\u001b[39mshape[\u001b[38;5;241m0\u001b[39m], \u001b[38;5;241m-\u001b[39m\u001b[38;5;241m1\u001b[39m)\n",
      "File \u001b[1;32mc:\\Users\\judit\\anaconda3\\envs\\torch\\Lib\\site-packages\\torch\\nn\\modules\\module.py:1518\u001b[0m, in \u001b[0;36mModule._wrapped_call_impl\u001b[1;34m(self, *args, **kwargs)\u001b[0m\n\u001b[0;32m   1516\u001b[0m     \u001b[38;5;28;01mreturn\u001b[39;00m \u001b[38;5;28mself\u001b[39m\u001b[38;5;241m.\u001b[39m_compiled_call_impl(\u001b[38;5;241m*\u001b[39margs, \u001b[38;5;241m*\u001b[39m\u001b[38;5;241m*\u001b[39mkwargs)  \u001b[38;5;66;03m# type: ignore[misc]\u001b[39;00m\n\u001b[0;32m   1517\u001b[0m \u001b[38;5;28;01melse\u001b[39;00m:\n\u001b[1;32m-> 1518\u001b[0m     \u001b[38;5;28;01mreturn\u001b[39;00m \u001b[38;5;28mself\u001b[39m\u001b[38;5;241m.\u001b[39m_call_impl(\u001b[38;5;241m*\u001b[39margs, \u001b[38;5;241m*\u001b[39m\u001b[38;5;241m*\u001b[39mkwargs)\n",
      "File \u001b[1;32mc:\\Users\\judit\\anaconda3\\envs\\torch\\Lib\\site-packages\\torch\\nn\\modules\\module.py:1527\u001b[0m, in \u001b[0;36mModule._call_impl\u001b[1;34m(self, *args, **kwargs)\u001b[0m\n\u001b[0;32m   1522\u001b[0m \u001b[38;5;66;03m# If we don't have any hooks, we want to skip the rest of the logic in\u001b[39;00m\n\u001b[0;32m   1523\u001b[0m \u001b[38;5;66;03m# this function, and just call forward.\u001b[39;00m\n\u001b[0;32m   1524\u001b[0m \u001b[38;5;28;01mif\u001b[39;00m \u001b[38;5;129;01mnot\u001b[39;00m (\u001b[38;5;28mself\u001b[39m\u001b[38;5;241m.\u001b[39m_backward_hooks \u001b[38;5;129;01mor\u001b[39;00m \u001b[38;5;28mself\u001b[39m\u001b[38;5;241m.\u001b[39m_backward_pre_hooks \u001b[38;5;129;01mor\u001b[39;00m \u001b[38;5;28mself\u001b[39m\u001b[38;5;241m.\u001b[39m_forward_hooks \u001b[38;5;129;01mor\u001b[39;00m \u001b[38;5;28mself\u001b[39m\u001b[38;5;241m.\u001b[39m_forward_pre_hooks\n\u001b[0;32m   1525\u001b[0m         \u001b[38;5;129;01mor\u001b[39;00m _global_backward_pre_hooks \u001b[38;5;129;01mor\u001b[39;00m _global_backward_hooks\n\u001b[0;32m   1526\u001b[0m         \u001b[38;5;129;01mor\u001b[39;00m _global_forward_hooks \u001b[38;5;129;01mor\u001b[39;00m _global_forward_pre_hooks):\n\u001b[1;32m-> 1527\u001b[0m     \u001b[38;5;28;01mreturn\u001b[39;00m forward_call(\u001b[38;5;241m*\u001b[39margs, \u001b[38;5;241m*\u001b[39m\u001b[38;5;241m*\u001b[39mkwargs)\n\u001b[0;32m   1529\u001b[0m \u001b[38;5;28;01mtry\u001b[39;00m:\n\u001b[0;32m   1530\u001b[0m     result \u001b[38;5;241m=\u001b[39m \u001b[38;5;28;01mNone\u001b[39;00m\n",
      "File \u001b[1;32mc:\\Users\\judit\\anaconda3\\envs\\torch\\Lib\\site-packages\\torch\\nn\\modules\\container.py:215\u001b[0m, in \u001b[0;36mSequential.forward\u001b[1;34m(self, input)\u001b[0m\n\u001b[0;32m    213\u001b[0m \u001b[38;5;28;01mdef\u001b[39;00m \u001b[38;5;21mforward\u001b[39m(\u001b[38;5;28mself\u001b[39m, \u001b[38;5;28minput\u001b[39m):\n\u001b[0;32m    214\u001b[0m     \u001b[38;5;28;01mfor\u001b[39;00m module \u001b[38;5;129;01min\u001b[39;00m \u001b[38;5;28mself\u001b[39m:\n\u001b[1;32m--> 215\u001b[0m         \u001b[38;5;28minput\u001b[39m \u001b[38;5;241m=\u001b[39m module(\u001b[38;5;28minput\u001b[39m)\n\u001b[0;32m    216\u001b[0m     \u001b[38;5;28;01mreturn\u001b[39;00m \u001b[38;5;28minput\u001b[39m\n",
      "File \u001b[1;32mc:\\Users\\judit\\anaconda3\\envs\\torch\\Lib\\site-packages\\torch\\nn\\modules\\module.py:1518\u001b[0m, in \u001b[0;36mModule._wrapped_call_impl\u001b[1;34m(self, *args, **kwargs)\u001b[0m\n\u001b[0;32m   1516\u001b[0m     \u001b[38;5;28;01mreturn\u001b[39;00m \u001b[38;5;28mself\u001b[39m\u001b[38;5;241m.\u001b[39m_compiled_call_impl(\u001b[38;5;241m*\u001b[39margs, \u001b[38;5;241m*\u001b[39m\u001b[38;5;241m*\u001b[39mkwargs)  \u001b[38;5;66;03m# type: ignore[misc]\u001b[39;00m\n\u001b[0;32m   1517\u001b[0m \u001b[38;5;28;01melse\u001b[39;00m:\n\u001b[1;32m-> 1518\u001b[0m     \u001b[38;5;28;01mreturn\u001b[39;00m \u001b[38;5;28mself\u001b[39m\u001b[38;5;241m.\u001b[39m_call_impl(\u001b[38;5;241m*\u001b[39margs, \u001b[38;5;241m*\u001b[39m\u001b[38;5;241m*\u001b[39mkwargs)\n",
      "File \u001b[1;32mc:\\Users\\judit\\anaconda3\\envs\\torch\\Lib\\site-packages\\torch\\nn\\modules\\module.py:1527\u001b[0m, in \u001b[0;36mModule._call_impl\u001b[1;34m(self, *args, **kwargs)\u001b[0m\n\u001b[0;32m   1522\u001b[0m \u001b[38;5;66;03m# If we don't have any hooks, we want to skip the rest of the logic in\u001b[39;00m\n\u001b[0;32m   1523\u001b[0m \u001b[38;5;66;03m# this function, and just call forward.\u001b[39;00m\n\u001b[0;32m   1524\u001b[0m \u001b[38;5;28;01mif\u001b[39;00m \u001b[38;5;129;01mnot\u001b[39;00m (\u001b[38;5;28mself\u001b[39m\u001b[38;5;241m.\u001b[39m_backward_hooks \u001b[38;5;129;01mor\u001b[39;00m \u001b[38;5;28mself\u001b[39m\u001b[38;5;241m.\u001b[39m_backward_pre_hooks \u001b[38;5;129;01mor\u001b[39;00m \u001b[38;5;28mself\u001b[39m\u001b[38;5;241m.\u001b[39m_forward_hooks \u001b[38;5;129;01mor\u001b[39;00m \u001b[38;5;28mself\u001b[39m\u001b[38;5;241m.\u001b[39m_forward_pre_hooks\n\u001b[0;32m   1525\u001b[0m         \u001b[38;5;129;01mor\u001b[39;00m _global_backward_pre_hooks \u001b[38;5;129;01mor\u001b[39;00m _global_backward_hooks\n\u001b[0;32m   1526\u001b[0m         \u001b[38;5;129;01mor\u001b[39;00m _global_forward_hooks \u001b[38;5;129;01mor\u001b[39;00m _global_forward_pre_hooks):\n\u001b[1;32m-> 1527\u001b[0m     \u001b[38;5;28;01mreturn\u001b[39;00m forward_call(\u001b[38;5;241m*\u001b[39margs, \u001b[38;5;241m*\u001b[39m\u001b[38;5;241m*\u001b[39mkwargs)\n\u001b[0;32m   1529\u001b[0m \u001b[38;5;28;01mtry\u001b[39;00m:\n\u001b[0;32m   1530\u001b[0m     result \u001b[38;5;241m=\u001b[39m \u001b[38;5;28;01mNone\u001b[39;00m\n",
      "File \u001b[1;32md:\\mdp\\model.py:30\u001b[0m, in \u001b[0;36mBottleneck.forward\u001b[1;34m(self, x)\u001b[0m\n\u001b[0;32m     26\u001b[0m x \u001b[38;5;241m=\u001b[39m \u001b[38;5;28mself\u001b[39m\u001b[38;5;241m.\u001b[39mrelu(\u001b[38;5;28mself\u001b[39m\u001b[38;5;241m.\u001b[39mbatch_norm1(\u001b[38;5;28mself\u001b[39m\u001b[38;5;241m.\u001b[39mconv1(x)))\n\u001b[0;32m     28\u001b[0m x \u001b[38;5;241m=\u001b[39m \u001b[38;5;28mself\u001b[39m\u001b[38;5;241m.\u001b[39mrelu(\u001b[38;5;28mself\u001b[39m\u001b[38;5;241m.\u001b[39mbatch_norm2(\u001b[38;5;28mself\u001b[39m\u001b[38;5;241m.\u001b[39mconv2(x)))\n\u001b[1;32m---> 30\u001b[0m x \u001b[38;5;241m=\u001b[39m \u001b[38;5;28mself\u001b[39m\u001b[38;5;241m.\u001b[39mconv3(x)\n\u001b[0;32m     31\u001b[0m x \u001b[38;5;241m=\u001b[39m \u001b[38;5;28mself\u001b[39m\u001b[38;5;241m.\u001b[39mbatch_norm3(x)\n\u001b[0;32m     33\u001b[0m \u001b[38;5;66;03m#downsample if needed\u001b[39;00m\n",
      "File \u001b[1;32mc:\\Users\\judit\\anaconda3\\envs\\torch\\Lib\\site-packages\\torch\\nn\\modules\\module.py:1518\u001b[0m, in \u001b[0;36mModule._wrapped_call_impl\u001b[1;34m(self, *args, **kwargs)\u001b[0m\n\u001b[0;32m   1516\u001b[0m     \u001b[38;5;28;01mreturn\u001b[39;00m \u001b[38;5;28mself\u001b[39m\u001b[38;5;241m.\u001b[39m_compiled_call_impl(\u001b[38;5;241m*\u001b[39margs, \u001b[38;5;241m*\u001b[39m\u001b[38;5;241m*\u001b[39mkwargs)  \u001b[38;5;66;03m# type: ignore[misc]\u001b[39;00m\n\u001b[0;32m   1517\u001b[0m \u001b[38;5;28;01melse\u001b[39;00m:\n\u001b[1;32m-> 1518\u001b[0m     \u001b[38;5;28;01mreturn\u001b[39;00m \u001b[38;5;28mself\u001b[39m\u001b[38;5;241m.\u001b[39m_call_impl(\u001b[38;5;241m*\u001b[39margs, \u001b[38;5;241m*\u001b[39m\u001b[38;5;241m*\u001b[39mkwargs)\n",
      "File \u001b[1;32mc:\\Users\\judit\\anaconda3\\envs\\torch\\Lib\\site-packages\\torch\\nn\\modules\\module.py:1527\u001b[0m, in \u001b[0;36mModule._call_impl\u001b[1;34m(self, *args, **kwargs)\u001b[0m\n\u001b[0;32m   1522\u001b[0m \u001b[38;5;66;03m# If we don't have any hooks, we want to skip the rest of the logic in\u001b[39;00m\n\u001b[0;32m   1523\u001b[0m \u001b[38;5;66;03m# this function, and just call forward.\u001b[39;00m\n\u001b[0;32m   1524\u001b[0m \u001b[38;5;28;01mif\u001b[39;00m \u001b[38;5;129;01mnot\u001b[39;00m (\u001b[38;5;28mself\u001b[39m\u001b[38;5;241m.\u001b[39m_backward_hooks \u001b[38;5;129;01mor\u001b[39;00m \u001b[38;5;28mself\u001b[39m\u001b[38;5;241m.\u001b[39m_backward_pre_hooks \u001b[38;5;129;01mor\u001b[39;00m \u001b[38;5;28mself\u001b[39m\u001b[38;5;241m.\u001b[39m_forward_hooks \u001b[38;5;129;01mor\u001b[39;00m \u001b[38;5;28mself\u001b[39m\u001b[38;5;241m.\u001b[39m_forward_pre_hooks\n\u001b[0;32m   1525\u001b[0m         \u001b[38;5;129;01mor\u001b[39;00m _global_backward_pre_hooks \u001b[38;5;129;01mor\u001b[39;00m _global_backward_hooks\n\u001b[0;32m   1526\u001b[0m         \u001b[38;5;129;01mor\u001b[39;00m _global_forward_hooks \u001b[38;5;129;01mor\u001b[39;00m _global_forward_pre_hooks):\n\u001b[1;32m-> 1527\u001b[0m     \u001b[38;5;28;01mreturn\u001b[39;00m forward_call(\u001b[38;5;241m*\u001b[39margs, \u001b[38;5;241m*\u001b[39m\u001b[38;5;241m*\u001b[39mkwargs)\n\u001b[0;32m   1529\u001b[0m \u001b[38;5;28;01mtry\u001b[39;00m:\n\u001b[0;32m   1530\u001b[0m     result \u001b[38;5;241m=\u001b[39m \u001b[38;5;28;01mNone\u001b[39;00m\n",
      "File \u001b[1;32mc:\\Users\\judit\\anaconda3\\envs\\torch\\Lib\\site-packages\\torch\\nn\\modules\\conv.py:460\u001b[0m, in \u001b[0;36mConv2d.forward\u001b[1;34m(self, input)\u001b[0m\n\u001b[0;32m    459\u001b[0m \u001b[38;5;28;01mdef\u001b[39;00m \u001b[38;5;21mforward\u001b[39m(\u001b[38;5;28mself\u001b[39m, \u001b[38;5;28minput\u001b[39m: Tensor) \u001b[38;5;241m-\u001b[39m\u001b[38;5;241m>\u001b[39m Tensor:\n\u001b[1;32m--> 460\u001b[0m     \u001b[38;5;28;01mreturn\u001b[39;00m \u001b[38;5;28mself\u001b[39m\u001b[38;5;241m.\u001b[39m_conv_forward(\u001b[38;5;28minput\u001b[39m, \u001b[38;5;28mself\u001b[39m\u001b[38;5;241m.\u001b[39mweight, \u001b[38;5;28mself\u001b[39m\u001b[38;5;241m.\u001b[39mbias)\n",
      "File \u001b[1;32mc:\\Users\\judit\\anaconda3\\envs\\torch\\Lib\\site-packages\\torch\\nn\\modules\\conv.py:456\u001b[0m, in \u001b[0;36mConv2d._conv_forward\u001b[1;34m(self, input, weight, bias)\u001b[0m\n\u001b[0;32m    452\u001b[0m \u001b[38;5;28;01mif\u001b[39;00m \u001b[38;5;28mself\u001b[39m\u001b[38;5;241m.\u001b[39mpadding_mode \u001b[38;5;241m!=\u001b[39m \u001b[38;5;124m'\u001b[39m\u001b[38;5;124mzeros\u001b[39m\u001b[38;5;124m'\u001b[39m:\n\u001b[0;32m    453\u001b[0m     \u001b[38;5;28;01mreturn\u001b[39;00m F\u001b[38;5;241m.\u001b[39mconv2d(F\u001b[38;5;241m.\u001b[39mpad(\u001b[38;5;28minput\u001b[39m, \u001b[38;5;28mself\u001b[39m\u001b[38;5;241m.\u001b[39m_reversed_padding_repeated_twice, mode\u001b[38;5;241m=\u001b[39m\u001b[38;5;28mself\u001b[39m\u001b[38;5;241m.\u001b[39mpadding_mode),\n\u001b[0;32m    454\u001b[0m                     weight, bias, \u001b[38;5;28mself\u001b[39m\u001b[38;5;241m.\u001b[39mstride,\n\u001b[0;32m    455\u001b[0m                     _pair(\u001b[38;5;241m0\u001b[39m), \u001b[38;5;28mself\u001b[39m\u001b[38;5;241m.\u001b[39mdilation, \u001b[38;5;28mself\u001b[39m\u001b[38;5;241m.\u001b[39mgroups)\n\u001b[1;32m--> 456\u001b[0m \u001b[38;5;28;01mreturn\u001b[39;00m F\u001b[38;5;241m.\u001b[39mconv2d(\u001b[38;5;28minput\u001b[39m, weight, bias, \u001b[38;5;28mself\u001b[39m\u001b[38;5;241m.\u001b[39mstride,\n\u001b[0;32m    457\u001b[0m                 \u001b[38;5;28mself\u001b[39m\u001b[38;5;241m.\u001b[39mpadding, \u001b[38;5;28mself\u001b[39m\u001b[38;5;241m.\u001b[39mdilation, \u001b[38;5;28mself\u001b[39m\u001b[38;5;241m.\u001b[39mgroups)\n",
      "\u001b[1;31mKeyboardInterrupt\u001b[0m: "
     ]
    }
   ],
   "source": [
    "train(model, epochs, train_dataloader, val_dataloader, scheduler, optimizer, criterion, scaler, device)"
   ]
  },
  {
   "cell_type": "code",
   "execution_count": 17,
   "metadata": {},
   "outputs": [],
   "source": [
    "#save model\n",
    "state_dict = model.state_dict()\n",
    "torch.save(state_dict, \"model_second.pth\")"
   ]
  },
  {
   "cell_type": "code",
   "execution_count": 23,
   "metadata": {},
   "outputs": [
    {
     "data": {
      "image/png": "[encoded data removed]",
      "text/plain": [
       "<Figure size 1500x500 with 4 Axes>"
      ]
     },
     "metadata": {},
     "output_type": "display_data"
    }
   ],
   "source": [
    "#take random 3 imgs for prediction example\n",
    "img, label = next(iter(val_dataloader))\n",
    "\n",
    "random_indices= random.sample(range(8), 4)\n",
    "imgs = []\n",
    "labels = []\n",
    "\n",
    "for idx in random_indices:\n",
    "  imgs.append(img[idx])\n",
    "  if label[idx].item() == 0:\n",
    "    labels.append(\"awake\")\n",
    "  else:\n",
    "    labels.append(\"drowsy\")\n",
    "\n",
    "fig, axes = plt.subplots(1, 4, figsize=(15, 5))  # 1 row, 3 columns\n",
    "\n",
    "# Iterate through each subplot and plot the image\n",
    "prediction = \"\"\n",
    "for i, ax in enumerate(axes):\n",
    "\n",
    "    #model prediction\n",
    "    img = imgs[i]\n",
    "    img = img.unsqueeze(dim=0)\n",
    "    img = img.to(device)\n",
    "\n",
    "    pred = model(img)\n",
    "\n",
    "    output = torch.sigmoid(pred)\n",
    "\n",
    "    if output >= 0.5:\n",
    "        prediction = \"drowsy\"\n",
    "    else:\n",
    "        prediction = \"awake\"\n",
    "    img_transposed = np.transpose(imgs[i], (1, 2, 0))\n",
    "    ax.imshow(img_transposed)  # Plot the image on the subplot\n",
    "    ax.set_title(f\"actual: {labels[i]} | prediction: {prediction}\") \n",
    "    ax.axis(\"off\")"
   ]
  },
  {
   "cell_type": "code",
   "execution_count": 20,
   "metadata": {},
   "outputs": [
    {
     "data": {
      "image/png": "[encoded data removed]",
      "text/plain": [
       "<Figure size 1200x500 with 2 Axes>"
      ]
     },
     "metadata": {},
     "output_type": "display_data"
    }
   ],
   "source": [
    "#plot metrics\n",
    "train_csv = \"training_metrics_test.csv\"\n",
    "eval_csv = \"eval_metrics_test.csv\"\n",
    "plot_metrics(train_csv, eval_csv)"
   ]
  },
  {
   "cell_type": "code",
   "execution_count": null,
   "metadata": {},
   "outputs": [],
   "source": []
  }
 ],
 "metadata": {
  "kernelspec": {
   "display_name": "torch",
   "language": "python",
   "name": "python3"
  },
  "language_info": {
   "codemirror_mode": {
    "name": "ipython",
    "version": 3
   },
   "file_extension": ".py",
   "mimetype": "text/x-python",
   "name": "python",
   "nbconvert_exporter": "python",
   "pygments_lexer": "ipython3",
   "version": "3.11.7"
  }
 },
 "nbformat": 4,
 "nbformat_minor": 2
}
